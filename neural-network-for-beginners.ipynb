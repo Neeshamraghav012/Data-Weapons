{
 "cells": [
  {
   "cell_type": "markdown",
   "id": "d438c41d",
   "metadata": {
    "papermill": {
     "duration": 0.009942,
     "end_time": "2022-12-07T07:17:22.732666",
     "exception": false,
     "start_time": "2022-12-07T07:17:22.722724",
     "status": "completed"
    },
    "tags": []
   },
   "source": [
    "### In this notebook, I am gonna show you how easy it is to make a neural network. During the course of this notebook, we will solve a famous classification problem **\"Titanic Survival\"**. "
   ]
  },
  {
   "cell_type": "markdown",
   "id": "9abc7f21",
   "metadata": {
    "papermill": {
     "duration": 0.007875,
     "end_time": "2022-12-07T07:17:22.748516",
     "exception": false,
     "start_time": "2022-12-07T07:17:22.740641",
     "status": "completed"
    },
    "tags": []
   },
   "source": [
    "#### <center>Give me some confidence by upvoting this notebook 🙌..<center>"
   ]
  },
  {
   "cell_type": "code",
   "execution_count": 1,
   "id": "687d6a85",
   "metadata": {
    "_cell_guid": "b1076dfc-b9ad-4769-8c92-a6c4dae69d19",
    "_uuid": "8f2839f25d086af736a60e9eeb907d3b93b6e0e5",
    "execution": {
     "iopub.execute_input": "2022-12-07T07:17:22.765866Z",
     "iopub.status.busy": "2022-12-07T07:17:22.765369Z",
     "iopub.status.idle": "2022-12-07T07:17:23.858857Z",
     "shell.execute_reply": "2022-12-07T07:17:23.857597Z"
    },
    "papermill": {
     "duration": 1.106257,
     "end_time": "2022-12-07T07:17:23.862222",
     "exception": false,
     "start_time": "2022-12-07T07:17:22.755965",
     "status": "completed"
    },
    "tags": []
   },
   "outputs": [],
   "source": [
    "import numpy as np\n",
    "import pandas as pd \n",
    "import seaborn as sns\n",
    "import matplotlib.pyplot as plt"
   ]
  },
  {
   "cell_type": "code",
   "execution_count": 2,
   "id": "47aedd57",
   "metadata": {
    "execution": {
     "iopub.execute_input": "2022-12-07T07:17:23.879163Z",
     "iopub.status.busy": "2022-12-07T07:17:23.878713Z",
     "iopub.status.idle": "2022-12-07T07:17:23.929648Z",
     "shell.execute_reply": "2022-12-07T07:17:23.928462Z"
    },
    "papermill": {
     "duration": 0.062209,
     "end_time": "2022-12-07T07:17:23.932277",
     "exception": false,
     "start_time": "2022-12-07T07:17:23.870068",
     "status": "completed"
    },
    "tags": []
   },
   "outputs": [
    {
     "data": {
      "text/html": [
       "<div>\n",
       "<style scoped>\n",
       "    .dataframe tbody tr th:only-of-type {\n",
       "        vertical-align: middle;\n",
       "    }\n",
       "\n",
       "    .dataframe tbody tr th {\n",
       "        vertical-align: top;\n",
       "    }\n",
       "\n",
       "    .dataframe thead th {\n",
       "        text-align: right;\n",
       "    }\n",
       "</style>\n",
       "<table border=\"1\" class=\"dataframe\">\n",
       "  <thead>\n",
       "    <tr style=\"text-align: right;\">\n",
       "      <th></th>\n",
       "      <th>PassengerId</th>\n",
       "      <th>Survived</th>\n",
       "      <th>Pclass</th>\n",
       "      <th>Name</th>\n",
       "      <th>Sex</th>\n",
       "      <th>Age</th>\n",
       "      <th>SibSp</th>\n",
       "      <th>Parch</th>\n",
       "      <th>Ticket</th>\n",
       "      <th>Fare</th>\n",
       "      <th>Cabin</th>\n",
       "      <th>Embarked</th>\n",
       "    </tr>\n",
       "  </thead>\n",
       "  <tbody>\n",
       "    <tr>\n",
       "      <th>0</th>\n",
       "      <td>1</td>\n",
       "      <td>0</td>\n",
       "      <td>3</td>\n",
       "      <td>Braund, Mr. Owen Harris</td>\n",
       "      <td>male</td>\n",
       "      <td>22.0</td>\n",
       "      <td>1</td>\n",
       "      <td>0</td>\n",
       "      <td>A/5 21171</td>\n",
       "      <td>7.2500</td>\n",
       "      <td>NaN</td>\n",
       "      <td>S</td>\n",
       "    </tr>\n",
       "    <tr>\n",
       "      <th>1</th>\n",
       "      <td>2</td>\n",
       "      <td>1</td>\n",
       "      <td>1</td>\n",
       "      <td>Cumings, Mrs. John Bradley (Florence Briggs Th...</td>\n",
       "      <td>female</td>\n",
       "      <td>38.0</td>\n",
       "      <td>1</td>\n",
       "      <td>0</td>\n",
       "      <td>PC 17599</td>\n",
       "      <td>71.2833</td>\n",
       "      <td>C85</td>\n",
       "      <td>C</td>\n",
       "    </tr>\n",
       "    <tr>\n",
       "      <th>2</th>\n",
       "      <td>3</td>\n",
       "      <td>1</td>\n",
       "      <td>3</td>\n",
       "      <td>Heikkinen, Miss. Laina</td>\n",
       "      <td>female</td>\n",
       "      <td>26.0</td>\n",
       "      <td>0</td>\n",
       "      <td>0</td>\n",
       "      <td>STON/O2. 3101282</td>\n",
       "      <td>7.9250</td>\n",
       "      <td>NaN</td>\n",
       "      <td>S</td>\n",
       "    </tr>\n",
       "    <tr>\n",
       "      <th>3</th>\n",
       "      <td>4</td>\n",
       "      <td>1</td>\n",
       "      <td>1</td>\n",
       "      <td>Futrelle, Mrs. Jacques Heath (Lily May Peel)</td>\n",
       "      <td>female</td>\n",
       "      <td>35.0</td>\n",
       "      <td>1</td>\n",
       "      <td>0</td>\n",
       "      <td>113803</td>\n",
       "      <td>53.1000</td>\n",
       "      <td>C123</td>\n",
       "      <td>S</td>\n",
       "    </tr>\n",
       "    <tr>\n",
       "      <th>4</th>\n",
       "      <td>5</td>\n",
       "      <td>0</td>\n",
       "      <td>3</td>\n",
       "      <td>Allen, Mr. William Henry</td>\n",
       "      <td>male</td>\n",
       "      <td>35.0</td>\n",
       "      <td>0</td>\n",
       "      <td>0</td>\n",
       "      <td>373450</td>\n",
       "      <td>8.0500</td>\n",
       "      <td>NaN</td>\n",
       "      <td>S</td>\n",
       "    </tr>\n",
       "  </tbody>\n",
       "</table>\n",
       "</div>"
      ],
      "text/plain": [
       "   PassengerId  Survived  Pclass  \\\n",
       "0            1         0       3   \n",
       "1            2         1       1   \n",
       "2            3         1       3   \n",
       "3            4         1       1   \n",
       "4            5         0       3   \n",
       "\n",
       "                                                Name     Sex   Age  SibSp  \\\n",
       "0                            Braund, Mr. Owen Harris    male  22.0      1   \n",
       "1  Cumings, Mrs. John Bradley (Florence Briggs Th...  female  38.0      1   \n",
       "2                             Heikkinen, Miss. Laina  female  26.0      0   \n",
       "3       Futrelle, Mrs. Jacques Heath (Lily May Peel)  female  35.0      1   \n",
       "4                           Allen, Mr. William Henry    male  35.0      0   \n",
       "\n",
       "   Parch            Ticket     Fare Cabin Embarked  \n",
       "0      0         A/5 21171   7.2500   NaN        S  \n",
       "1      0          PC 17599  71.2833   C85        C  \n",
       "2      0  STON/O2. 3101282   7.9250   NaN        S  \n",
       "3      0            113803  53.1000  C123        S  \n",
       "4      0            373450   8.0500   NaN        S  "
      ]
     },
     "execution_count": 2,
     "metadata": {},
     "output_type": "execute_result"
    }
   ],
   "source": [
    "df_train = pd.read_csv('../input/titanic/train.csv')\n",
    "\n",
    "df_test = pd.read_csv('../input/titanic/test.csv')\n",
    "\n",
    "df_train.head()"
   ]
  },
  {
   "cell_type": "markdown",
   "id": "229c3606",
   "metadata": {
    "papermill": {
     "duration": 0.007469,
     "end_time": "2022-12-07T07:17:23.947611",
     "exception": false,
     "start_time": "2022-12-07T07:17:23.940142",
     "status": "completed"
    },
    "tags": []
   },
   "source": [
    "## Data Meaning\n",
    "\n",
    "1. Pclass: Ticket (class\t1 = 1st, 2 = 2nd, 3 = 3rd)\n",
    "2. SibSp: # of siblings / spouses aboard the Titanic\n",
    "3. Parch: # of parents / children aboard the Titanic\n",
    "4. Fare: Passenger fare\n",
    "5. Cabin: Cabin number\n",
    "6. Embarked: Port of Embarkation\tC = Cherbourg, Q = Queenstown, S = Southampton\n",
    "7. Survived: Survival\t0 = No, 1 = Yes\n"
   ]
  },
  {
   "cell_type": "markdown",
   "id": "982f8101",
   "metadata": {
    "papermill": {
     "duration": 0.007359,
     "end_time": "2022-12-07T07:17:23.962596",
     "exception": false,
     "start_time": "2022-12-07T07:17:23.955237",
     "status": "completed"
    },
    "tags": []
   },
   "source": [
    "## Basic Data Analysis."
   ]
  },
  {
   "cell_type": "code",
   "execution_count": 3,
   "id": "3320a719",
   "metadata": {
    "execution": {
     "iopub.execute_input": "2022-12-07T07:17:23.980979Z",
     "iopub.status.busy": "2022-12-07T07:17:23.979917Z",
     "iopub.status.idle": "2022-12-07T07:17:23.987054Z",
     "shell.execute_reply": "2022-12-07T07:17:23.985566Z"
    },
    "papermill": {
     "duration": 0.019625,
     "end_time": "2022-12-07T07:17:23.989847",
     "exception": false,
     "start_time": "2022-12-07T07:17:23.970222",
     "status": "completed"
    },
    "tags": []
   },
   "outputs": [
    {
     "name": "stdout",
     "output_type": "stream",
     "text": [
      "(891, 12)\n",
      "Index(['PassengerId', 'Survived', 'Pclass', 'Name', 'Sex', 'Age', 'SibSp',\n",
      "       'Parch', 'Ticket', 'Fare', 'Cabin', 'Embarked'],\n",
      "      dtype='object')\n"
     ]
    }
   ],
   "source": [
    "print(df_train.shape)\n",
    "\n",
    "print(df_train.columns)"
   ]
  },
  {
   "cell_type": "code",
   "execution_count": 4,
   "id": "ed558295",
   "metadata": {
    "execution": {
     "iopub.execute_input": "2022-12-07T07:17:24.009239Z",
     "iopub.status.busy": "2022-12-07T07:17:24.008162Z",
     "iopub.status.idle": "2022-12-07T07:17:24.034832Z",
     "shell.execute_reply": "2022-12-07T07:17:24.033153Z"
    },
    "papermill": {
     "duration": 0.040064,
     "end_time": "2022-12-07T07:17:24.038022",
     "exception": false,
     "start_time": "2022-12-07T07:17:23.997958",
     "status": "completed"
    },
    "tags": []
   },
   "outputs": [
    {
     "name": "stdout",
     "output_type": "stream",
     "text": [
      "<class 'pandas.core.frame.DataFrame'>\n",
      "RangeIndex: 891 entries, 0 to 890\n",
      "Data columns (total 12 columns):\n",
      " #   Column       Non-Null Count  Dtype  \n",
      "---  ------       --------------  -----  \n",
      " 0   PassengerId  891 non-null    int64  \n",
      " 1   Survived     891 non-null    int64  \n",
      " 2   Pclass       891 non-null    int64  \n",
      " 3   Name         891 non-null    object \n",
      " 4   Sex          891 non-null    object \n",
      " 5   Age          714 non-null    float64\n",
      " 6   SibSp        891 non-null    int64  \n",
      " 7   Parch        891 non-null    int64  \n",
      " 8   Ticket       891 non-null    object \n",
      " 9   Fare         891 non-null    float64\n",
      " 10  Cabin        204 non-null    object \n",
      " 11  Embarked     889 non-null    object \n",
      "dtypes: float64(2), int64(5), object(5)\n",
      "memory usage: 83.7+ KB\n"
     ]
    }
   ],
   "source": [
    "df_train.info()"
   ]
  },
  {
   "cell_type": "markdown",
   "id": "27736cbf",
   "metadata": {
    "papermill": {
     "duration": 0.007491,
     "end_time": "2022-12-07T07:17:24.053439",
     "exception": false,
     "start_time": "2022-12-07T07:17:24.045948",
     "status": "completed"
    },
    "tags": []
   },
   "source": [
    "#### Age, Cabin and embarked columns contain some null values. So we need to carefully handle that as neural networks don't work with missing data."
   ]
  },
  {
   "cell_type": "code",
   "execution_count": 5,
   "id": "0585826d",
   "metadata": {
    "execution": {
     "iopub.execute_input": "2022-12-07T07:17:24.070925Z",
     "iopub.status.busy": "2022-12-07T07:17:24.070456Z",
     "iopub.status.idle": "2022-12-07T07:17:24.108842Z",
     "shell.execute_reply": "2022-12-07T07:17:24.107591Z"
    },
    "papermill": {
     "duration": 0.050058,
     "end_time": "2022-12-07T07:17:24.111388",
     "exception": false,
     "start_time": "2022-12-07T07:17:24.061330",
     "status": "completed"
    },
    "tags": []
   },
   "outputs": [
    {
     "data": {
      "text/html": [
       "<div>\n",
       "<style scoped>\n",
       "    .dataframe tbody tr th:only-of-type {\n",
       "        vertical-align: middle;\n",
       "    }\n",
       "\n",
       "    .dataframe tbody tr th {\n",
       "        vertical-align: top;\n",
       "    }\n",
       "\n",
       "    .dataframe thead th {\n",
       "        text-align: right;\n",
       "    }\n",
       "</style>\n",
       "<table border=\"1\" class=\"dataframe\">\n",
       "  <thead>\n",
       "    <tr style=\"text-align: right;\">\n",
       "      <th></th>\n",
       "      <th>PassengerId</th>\n",
       "      <th>Survived</th>\n",
       "      <th>Pclass</th>\n",
       "      <th>Age</th>\n",
       "      <th>SibSp</th>\n",
       "      <th>Parch</th>\n",
       "      <th>Fare</th>\n",
       "    </tr>\n",
       "  </thead>\n",
       "  <tbody>\n",
       "    <tr>\n",
       "      <th>count</th>\n",
       "      <td>891.000000</td>\n",
       "      <td>891.000000</td>\n",
       "      <td>891.000000</td>\n",
       "      <td>714.000000</td>\n",
       "      <td>891.000000</td>\n",
       "      <td>891.000000</td>\n",
       "      <td>891.000000</td>\n",
       "    </tr>\n",
       "    <tr>\n",
       "      <th>mean</th>\n",
       "      <td>446.000000</td>\n",
       "      <td>0.383838</td>\n",
       "      <td>2.308642</td>\n",
       "      <td>29.699118</td>\n",
       "      <td>0.523008</td>\n",
       "      <td>0.381594</td>\n",
       "      <td>32.204208</td>\n",
       "    </tr>\n",
       "    <tr>\n",
       "      <th>std</th>\n",
       "      <td>257.353842</td>\n",
       "      <td>0.486592</td>\n",
       "      <td>0.836071</td>\n",
       "      <td>14.526497</td>\n",
       "      <td>1.102743</td>\n",
       "      <td>0.806057</td>\n",
       "      <td>49.693429</td>\n",
       "    </tr>\n",
       "    <tr>\n",
       "      <th>min</th>\n",
       "      <td>1.000000</td>\n",
       "      <td>0.000000</td>\n",
       "      <td>1.000000</td>\n",
       "      <td>0.420000</td>\n",
       "      <td>0.000000</td>\n",
       "      <td>0.000000</td>\n",
       "      <td>0.000000</td>\n",
       "    </tr>\n",
       "    <tr>\n",
       "      <th>25%</th>\n",
       "      <td>223.500000</td>\n",
       "      <td>0.000000</td>\n",
       "      <td>2.000000</td>\n",
       "      <td>20.125000</td>\n",
       "      <td>0.000000</td>\n",
       "      <td>0.000000</td>\n",
       "      <td>7.910400</td>\n",
       "    </tr>\n",
       "    <tr>\n",
       "      <th>50%</th>\n",
       "      <td>446.000000</td>\n",
       "      <td>0.000000</td>\n",
       "      <td>3.000000</td>\n",
       "      <td>28.000000</td>\n",
       "      <td>0.000000</td>\n",
       "      <td>0.000000</td>\n",
       "      <td>14.454200</td>\n",
       "    </tr>\n",
       "    <tr>\n",
       "      <th>75%</th>\n",
       "      <td>668.500000</td>\n",
       "      <td>1.000000</td>\n",
       "      <td>3.000000</td>\n",
       "      <td>38.000000</td>\n",
       "      <td>1.000000</td>\n",
       "      <td>0.000000</td>\n",
       "      <td>31.000000</td>\n",
       "    </tr>\n",
       "    <tr>\n",
       "      <th>max</th>\n",
       "      <td>891.000000</td>\n",
       "      <td>1.000000</td>\n",
       "      <td>3.000000</td>\n",
       "      <td>80.000000</td>\n",
       "      <td>8.000000</td>\n",
       "      <td>6.000000</td>\n",
       "      <td>512.329200</td>\n",
       "    </tr>\n",
       "  </tbody>\n",
       "</table>\n",
       "</div>"
      ],
      "text/plain": [
       "       PassengerId    Survived      Pclass         Age       SibSp  \\\n",
       "count   891.000000  891.000000  891.000000  714.000000  891.000000   \n",
       "mean    446.000000    0.383838    2.308642   29.699118    0.523008   \n",
       "std     257.353842    0.486592    0.836071   14.526497    1.102743   \n",
       "min       1.000000    0.000000    1.000000    0.420000    0.000000   \n",
       "25%     223.500000    0.000000    2.000000   20.125000    0.000000   \n",
       "50%     446.000000    0.000000    3.000000   28.000000    0.000000   \n",
       "75%     668.500000    1.000000    3.000000   38.000000    1.000000   \n",
       "max     891.000000    1.000000    3.000000   80.000000    8.000000   \n",
       "\n",
       "            Parch        Fare  \n",
       "count  891.000000  891.000000  \n",
       "mean     0.381594   32.204208  \n",
       "std      0.806057   49.693429  \n",
       "min      0.000000    0.000000  \n",
       "25%      0.000000    7.910400  \n",
       "50%      0.000000   14.454200  \n",
       "75%      0.000000   31.000000  \n",
       "max      6.000000  512.329200  "
      ]
     },
     "execution_count": 5,
     "metadata": {},
     "output_type": "execute_result"
    }
   ],
   "source": [
    "df_train.describe()"
   ]
  },
  {
   "cell_type": "code",
   "execution_count": 6,
   "id": "b549fff7",
   "metadata": {
    "execution": {
     "iopub.execute_input": "2022-12-07T07:17:24.130246Z",
     "iopub.status.busy": "2022-12-07T07:17:24.129154Z",
     "iopub.status.idle": "2022-12-07T07:17:24.305172Z",
     "shell.execute_reply": "2022-12-07T07:17:24.303402Z"
    },
    "papermill": {
     "duration": 0.190413,
     "end_time": "2022-12-07T07:17:24.309989",
     "exception": false,
     "start_time": "2022-12-07T07:17:24.119576",
     "status": "completed"
    },
    "tags": []
   },
   "outputs": [
    {
     "name": "stderr",
     "output_type": "stream",
     "text": [
      "/opt/conda/lib/python3.7/site-packages/seaborn/_decorators.py:43: FutureWarning: Pass the following variable as a keyword arg: x. From version 0.12, the only valid positional argument will be `data`, and passing other arguments without an explicit keyword will result in an error or misinterpretation.\n",
      "  FutureWarning\n"
     ]
    },
    {
     "data": {
      "text/plain": [
       "<AxesSubplot:xlabel='Survived', ylabel='count'>"
      ]
     },
     "execution_count": 6,
     "metadata": {},
     "output_type": "execute_result"
    },
    {
     "data": {
      "image/png": "[encoded data removed]",
      "text/plain": [
       "<Figure size 432x288 with 1 Axes>"
      ]
     },
     "metadata": {
      "needs_background": "light"
     },
     "output_type": "display_data"
    }
   ],
   "source": [
    "sns.countplot(df_train['Survived'], data = df_train)"
   ]
  },
  {
   "cell_type": "markdown",
   "id": "6f596d00",
   "metadata": {
    "papermill": {
     "duration": 0.008258,
     "end_time": "2022-12-07T07:17:24.333560",
     "exception": false,
     "start_time": "2022-12-07T07:17:24.325302",
     "status": "completed"
    },
    "tags": []
   },
   "source": [
    "### The dataset is almost balanced!"
   ]
  },
  {
   "cell_type": "code",
   "execution_count": 7,
   "id": "4e3da7dd",
   "metadata": {
    "execution": {
     "iopub.execute_input": "2022-12-07T07:17:24.353108Z",
     "iopub.status.busy": "2022-12-07T07:17:24.352440Z",
     "iopub.status.idle": "2022-12-07T07:17:25.459159Z",
     "shell.execute_reply": "2022-12-07T07:17:25.458251Z"
    },
    "papermill": {
     "duration": 1.119554,
     "end_time": "2022-12-07T07:17:25.461839",
     "exception": false,
     "start_time": "2022-12-07T07:17:24.342285",
     "status": "completed"
    },
    "tags": []
   },
   "outputs": [
    {
     "data": {
      "text/plain": [
       "<AxesSubplot:>"
      ]
     },
     "execution_count": 7,
     "metadata": {},
     "output_type": "execute_result"
    },
    {
     "data": {
      "image/png": "[encoded data removed]",
      "text/plain": [
       "<Figure size 1800x720 with 2 Axes>"
      ]
     },
     "metadata": {
      "needs_background": "light"
     },
     "output_type": "display_data"
    }
   ],
   "source": [
    "# Let's visualize the missing values.\n",
    "\n",
    "plt.figure(figsize = (25, 10))\n",
    "\n",
    "sns.heatmap(df_train.isnull())"
   ]
  },
  {
   "cell_type": "markdown",
   "id": "b7cad974",
   "metadata": {
    "papermill": {
     "duration": 0.009228,
     "end_time": "2022-12-07T07:17:25.480683",
     "exception": false,
     "start_time": "2022-12-07T07:17:25.471455",
     "status": "completed"
    },
    "tags": []
   },
   "source": [
    "### Handling the missing values"
   ]
  },
  {
   "cell_type": "code",
   "execution_count": 8,
   "id": "4167a209",
   "metadata": {
    "execution": {
     "iopub.execute_input": "2022-12-07T07:17:25.501835Z",
     "iopub.status.busy": "2022-12-07T07:17:25.501168Z",
     "iopub.status.idle": "2022-12-07T07:17:25.521207Z",
     "shell.execute_reply": "2022-12-07T07:17:25.519919Z"
    },
    "papermill": {
     "duration": 0.033947,
     "end_time": "2022-12-07T07:17:25.523991",
     "exception": false,
     "start_time": "2022-12-07T07:17:25.490044",
     "status": "completed"
    },
    "tags": []
   },
   "outputs": [],
   "source": [
    "df_train['Age'] = df_train['Age'].fillna(df_train['Age'].median())\n",
    "df_test['Age'] = df_test['Age'].fillna(df_test['Age'].median())\n",
    "\n",
    "df_train['Embarked'] = df_train['Embarked'].fillna('Q')\n",
    "df_test['Embarked'] = df_test['Embarked'].fillna('Q')\n",
    "\n",
    "df_train['Embarked'] = df_train['Embarked'].map({'S': 0, 'C': 1, 'Q': 2})\n",
    "df_test['Embarked'] = df_test['Embarked'].map({'S': 0, 'C': 1, 'Q': 2})\n",
    "\n",
    "df_test['Fare'] = df_test['Fare'].fillna(df_test['Fare'].median())\n",
    "\n",
    "# And then lets convert some columns to int64\n",
    "\n",
    "df_train['Fare'] = df_train['Fare'].astype(int)\n",
    "df_test['Fare'] = df_test['Fare'].astype(int)\n",
    "\n",
    "df_train['Age'] = df_train['Age'].astype(int)\n",
    "df_test['Age'] = df_test['Age'].astype(int)\n",
    "\n",
    "\n",
    "# Let's drop the Cabin column because it has many missing values\n",
    "\n",
    "df_train = df_train.drop(columns = ['Cabin'])\n",
    "df_test = df_test.drop(columns = ['Cabin'])\n",
    "\n",
    "# Also i am dropping ticket column because it doesn't effecting the output.\n",
    "\n",
    "df_train =  df_train.drop(columns = ['Ticket'])\n",
    "df_test = df_test.drop(columns = ['Ticket'])"
   ]
  },
  {
   "cell_type": "markdown",
   "id": "04d19589",
   "metadata": {
    "papermill": {
     "duration": 0.00902,
     "end_time": "2022-12-07T07:17:25.542531",
     "exception": false,
     "start_time": "2022-12-07T07:17:25.533511",
     "status": "completed"
    },
    "tags": []
   },
   "source": [
    "### Normalizing and Standardizing the data."
   ]
  },
  {
   "cell_type": "code",
   "execution_count": 9,
   "id": "d182c9d3",
   "metadata": {
    "execution": {
     "iopub.execute_input": "2022-12-07T07:17:25.563985Z",
     "iopub.status.busy": "2022-12-07T07:17:25.562931Z",
     "iopub.status.idle": "2022-12-07T07:17:25.810065Z",
     "shell.execute_reply": "2022-12-07T07:17:25.808970Z"
    },
    "papermill": {
     "duration": 0.260856,
     "end_time": "2022-12-07T07:17:25.812762",
     "exception": false,
     "start_time": "2022-12-07T07:17:25.551906",
     "status": "completed"
    },
    "tags": []
   },
   "outputs": [
    {
     "data": {
      "text/plain": [
       "<AxesSubplot:xlabel='Age', ylabel='Density'>"
      ]
     },
     "execution_count": 9,
     "metadata": {},
     "output_type": "execute_result"
    },
    {
     "data": {
      "image/png": "[encoded data removed]",
      "text/plain": [
       "<Figure size 432x432 with 1 Axes>"
      ]
     },
     "metadata": {
      "needs_background": "light"
     },
     "output_type": "display_data"
    }
   ],
   "source": [
    "plt.figure(figsize = (6, 6))\n",
    "\n",
    "# Age column is already normalized as you can see in the graph below.\n",
    "sns.kdeplot(x = df_train['Age'], data = df_train)\n"
   ]
  },
  {
   "cell_type": "code",
   "execution_count": 10,
   "id": "48db80bd",
   "metadata": {
    "execution": {
     "iopub.execute_input": "2022-12-07T07:17:25.835005Z",
     "iopub.status.busy": "2022-12-07T07:17:25.834208Z",
     "iopub.status.idle": "2022-12-07T07:17:26.090263Z",
     "shell.execute_reply": "2022-12-07T07:17:26.088037Z"
    },
    "papermill": {
     "duration": 0.270586,
     "end_time": "2022-12-07T07:17:26.093445",
     "exception": false,
     "start_time": "2022-12-07T07:17:25.822859",
     "status": "completed"
    },
    "tags": []
   },
   "outputs": [
    {
     "data": {
      "text/plain": [
       "<AxesSubplot:xlabel='Fare', ylabel='Density'>"
      ]
     },
     "execution_count": 10,
     "metadata": {},
     "output_type": "execute_result"
    },
    {
     "data": {
      "image/png": "[encoded data removed]",
      "text/plain": [
       "<Figure size 432x432 with 1 Axes>"
      ]
     },
     "metadata": {
      "needs_background": "light"
     },
     "output_type": "display_data"
    }
   ],
   "source": [
    "plt.figure(figsize = (6, 6))\n",
    "\n",
    "# Fare column is not normalized, so we need to normalized it first. Because neural network works with normalized data.\n",
    "sns.kdeplot(x = df_train['Fare'], data = df_train)"
   ]
  },
  {
   "cell_type": "code",
   "execution_count": 11,
   "id": "589a9c3b",
   "metadata": {
    "execution": {
     "iopub.execute_input": "2022-12-07T07:17:26.117757Z",
     "iopub.status.busy": "2022-12-07T07:17:26.117047Z",
     "iopub.status.idle": "2022-12-07T07:17:26.493699Z",
     "shell.execute_reply": "2022-12-07T07:17:26.492425Z"
    },
    "papermill": {
     "duration": 0.391779,
     "end_time": "2022-12-07T07:17:26.496244",
     "exception": false,
     "start_time": "2022-12-07T07:17:26.104465",
     "status": "completed"
    },
    "tags": []
   },
   "outputs": [
    {
     "data": {
      "text/plain": [
       "<AxesSubplot:xlabel='Fare', ylabel='Density'>"
      ]
     },
     "execution_count": 11,
     "metadata": {},
     "output_type": "execute_result"
    },
    {
     "data": {
      "image/png": "[encoded data removed]",
      "text/plain": [
       "<Figure size 432x432 with 1 Axes>"
      ]
     },
     "metadata": {
      "needs_background": "light"
     },
     "output_type": "display_data"
    }
   ],
   "source": [
    "# for Box-Cox Transformation\n",
    "from scipy import stats\n",
    "\n",
    "# for min_max scaling\n",
    "from mlxtend.preprocessing import minmax_scaling\n",
    "\n",
    "df_train['Fare'] = df_train['Fare'].clip(1, max(df_train['Fare']))\n",
    "df_train['Fare'] = stats.boxcox(df_train['Fare'])[0]\n",
    "\n",
    "df_test['Fare'] = df_test['Fare'].clip(1, max(df_test['Fare']))\n",
    "df_test['Fare'] = stats.boxcox(df_test['Fare'])[0]\n",
    "\n",
    "plt.figure(figsize = (6, 6))\n",
    "\n",
    "# Fare column is not normalized, so we need to normalized it first. Because neural network works with normalized data.\n",
    "sns.kdeplot(x = df_train['Fare'], data = df_train)\n"
   ]
  },
  {
   "cell_type": "code",
   "execution_count": 12,
   "id": "da84d83d",
   "metadata": {
    "execution": {
     "iopub.execute_input": "2022-12-07T07:17:26.520180Z",
     "iopub.status.busy": "2022-12-07T07:17:26.519770Z",
     "iopub.status.idle": "2022-12-07T07:17:26.780465Z",
     "shell.execute_reply": "2022-12-07T07:17:26.779541Z"
    },
    "papermill": {
     "duration": 0.275862,
     "end_time": "2022-12-07T07:17:26.783167",
     "exception": false,
     "start_time": "2022-12-07T07:17:26.507305",
     "status": "completed"
    },
    "tags": []
   },
   "outputs": [
    {
     "name": "stderr",
     "output_type": "stream",
     "text": [
      "/opt/conda/lib/python3.7/site-packages/mlxtend/preprocessing/scaling.py:40: FutureWarning: Support for multi-dimensional indexing (e.g. `obj[:, None]`) is deprecated and will be removed in a future version.  Convert to a numpy array before indexing instead.\n",
      "  ary_new = ary_new[:, np.newaxis]\n"
     ]
    },
    {
     "data": {
      "text/plain": [
       "<AxesSubplot:xlabel='Age', ylabel='Density'>"
      ]
     },
     "execution_count": 12,
     "metadata": {},
     "output_type": "execute_result"
    },
    {
     "data": {
      "image/png": "[encoded data removed]",
      "text/plain": [
       "<Figure size 432x288 with 1 Axes>"
      ]
     },
     "metadata": {
      "needs_background": "light"
     },
     "output_type": "display_data"
    }
   ],
   "source": [
    "# One final step: Let's scale the age and fare column.\n",
    "\n",
    "df_train['Fare'] = minmax_scaling(df_train['Fare'], columns = [0])\n",
    "df_test['Fare'] = minmax_scaling(df_test['Fare'], columns = [0])\n",
    "\n",
    "df_train['Age'] = minmax_scaling(df_train['Age'], columns = [0])\n",
    "df_test['Age'] = minmax_scaling(df_test['Age'], columns = [0])\n",
    "\n",
    "sns.kdeplot(x = df_test['Age'], data = df_test)"
   ]
  },
  {
   "cell_type": "markdown",
   "id": "130487ef",
   "metadata": {
    "papermill": {
     "duration": 0.011884,
     "end_time": "2022-12-07T07:17:26.806575",
     "exception": false,
     "start_time": "2022-12-07T07:17:26.794691",
     "status": "completed"
    },
    "tags": []
   },
   "source": [
    "### Let's do some feature engineering and find out which features are important and which are not.\n",
    "\n",
    "**Question: I am dropping the Name and PassengerId column from the dataset. If you know the answer post a comment so that everyone can see your answer!**"
   ]
  },
  {
   "cell_type": "code",
   "execution_count": 13,
   "id": "bff25b83",
   "metadata": {
    "execution": {
     "iopub.execute_input": "2022-12-07T07:17:26.832337Z",
     "iopub.status.busy": "2022-12-07T07:17:26.831198Z",
     "iopub.status.idle": "2022-12-07T07:17:26.843203Z",
     "shell.execute_reply": "2022-12-07T07:17:26.842062Z"
    },
    "papermill": {
     "duration": 0.02779,
     "end_time": "2022-12-07T07:17:26.845940",
     "exception": false,
     "start_time": "2022-12-07T07:17:26.818150",
     "status": "completed"
    },
    "tags": []
   },
   "outputs": [],
   "source": [
    "df_train = df_train.drop(columns = ['Name'])\n",
    "df_test = df_test.drop(columns = ['Name'])\n",
    "\n",
    "df_train = df_train.drop(columns = ['PassengerId'])\n",
    "df_test = df_test.drop(columns = ['PassengerId'])"
   ]
  },
  {
   "cell_type": "code",
   "execution_count": 14,
   "id": "4352a5aa",
   "metadata": {
    "execution": {
     "iopub.execute_input": "2022-12-07T07:17:26.871060Z",
     "iopub.status.busy": "2022-12-07T07:17:26.870235Z",
     "iopub.status.idle": "2022-12-07T07:17:26.877822Z",
     "shell.execute_reply": "2022-12-07T07:17:26.876661Z"
    },
    "papermill": {
     "duration": 0.02401,
     "end_time": "2022-12-07T07:17:26.881616",
     "exception": false,
     "start_time": "2022-12-07T07:17:26.857606",
     "status": "completed"
    },
    "tags": []
   },
   "outputs": [
    {
     "name": "stdout",
     "output_type": "stream",
     "text": [
      "male      577\n",
      "female    314\n",
      "Name: Sex, dtype: int64\n"
     ]
    }
   ],
   "source": [
    "# By hit and trial method i found that sex is the most important feature, take a look at the below plot for explanation!\n",
    "\n",
    "print(df_train['Sex'].value_counts())\n"
   ]
  },
  {
   "cell_type": "code",
   "execution_count": 15,
   "id": "52444d86",
   "metadata": {
    "execution": {
     "iopub.execute_input": "2022-12-07T07:17:26.907439Z",
     "iopub.status.busy": "2022-12-07T07:17:26.907018Z",
     "iopub.status.idle": "2022-12-07T07:17:27.072916Z",
     "shell.execute_reply": "2022-12-07T07:17:27.071218Z"
    },
    "papermill": {
     "duration": 0.183438,
     "end_time": "2022-12-07T07:17:27.077636",
     "exception": false,
     "start_time": "2022-12-07T07:17:26.894198",
     "status": "completed"
    },
    "tags": []
   },
   "outputs": [
    {
     "name": "stdout",
     "output_type": "stream",
     "text": [
      "\n"
     ]
    },
    {
     "data": {
      "image/png": "[encoded data removed]",
      "text/plain": [
       "<Figure size 576x576 with 1 Axes>"
      ]
     },
     "metadata": {},
     "output_type": "display_data"
    }
   ],
   "source": [
    "total_male = 577\n",
    "\n",
    "total_female = 314\n",
    "\n",
    "total_male_survived = len(df_train.loc[(df_train['Sex'] == 'male') & (df_train['Survived'] == 1)])\n",
    "\n",
    "total_female_survived = len(df_train.loc[(df_train['Sex'] == 'female') & (df_train['Survived'] == 1)])\n",
    "\n",
    "male_survival_percentage = (total_male_survived / total_male) * 100\n",
    "\n",
    "female_survival_percentage = (total_female_survived / total_female ) * 100\n",
    "\n",
    "print()\n",
    "\n",
    "y = np.array([male_survival_percentage, female_survival_percentage])\n",
    "\n",
    "plt.figure(figsize = (8, 8))\n",
    "\n",
    "plt.title(\"Gender V/S Survival\")\n",
    "\n",
    "plt.pie(y, labels = ['Male Survived', 'Female Survived'], autopct='%1.1f%%')\n",
    "\n",
    "plt.show()"
   ]
  },
  {
   "cell_type": "markdown",
   "id": "71e433d9",
   "metadata": {
    "papermill": {
     "duration": 0.01792,
     "end_time": "2022-12-07T07:17:27.125213",
     "exception": false,
     "start_time": "2022-12-07T07:17:27.107293",
     "status": "completed"
    },
    "tags": []
   },
   "source": [
    "### Let's encode the Sex column into numeric value."
   ]
  },
  {
   "cell_type": "code",
   "execution_count": 16,
   "id": "569fc3e5",
   "metadata": {
    "execution": {
     "iopub.execute_input": "2022-12-07T07:17:27.151919Z",
     "iopub.status.busy": "2022-12-07T07:17:27.150591Z",
     "iopub.status.idle": "2022-12-07T07:17:27.159383Z",
     "shell.execute_reply": "2022-12-07T07:17:27.157977Z"
    },
    "papermill": {
     "duration": 0.024975,
     "end_time": "2022-12-07T07:17:27.162254",
     "exception": false,
     "start_time": "2022-12-07T07:17:27.137279",
     "status": "completed"
    },
    "tags": []
   },
   "outputs": [],
   "source": [
    "df_train['Sex'] = df_train['Sex'].map({'male': 1, 'female': 0})\n",
    "df_test['Sex'] = df_test['Sex'].map({'male': 1, 'female': 0})"
   ]
  },
  {
   "cell_type": "code",
   "execution_count": 17,
   "id": "90bd7a56",
   "metadata": {
    "execution": {
     "iopub.execute_input": "2022-12-07T07:17:27.188364Z",
     "iopub.status.busy": "2022-12-07T07:17:27.187934Z",
     "iopub.status.idle": "2022-12-07T07:17:27.440517Z",
     "shell.execute_reply": "2022-12-07T07:17:27.439256Z"
    },
    "papermill": {
     "duration": 0.269115,
     "end_time": "2022-12-07T07:17:27.443414",
     "exception": false,
     "start_time": "2022-12-07T07:17:27.174299",
     "status": "completed"
    },
    "tags": []
   },
   "outputs": [
    {
     "data": {
      "text/plain": [
       "Sex         0.137586\n",
       "Pclass      0.059235\n",
       "SibSp       0.048427\n",
       "Parch       0.027421\n",
       "Embarked    0.012071\n",
       "Name: MI Scores, dtype: float64"
      ]
     },
     "execution_count": 17,
     "metadata": {},
     "output_type": "execute_result"
    }
   ],
   "source": [
    "from sklearn.feature_selection import mutual_info_classif\n",
    "\n",
    "discrete_features = df_train.dtypes == int\n",
    "\n",
    "y = df_train['Survived']\n",
    "\n",
    "df_train = df_train.drop(columns = ['Survived'])\n",
    "\n",
    "\n",
    "def make_mi_scores(X, y, discrete_features):\n",
    "    \n",
    "    mi_scores = mutual_info_classif(X, y, random_state = 0)\n",
    "    \n",
    "    mi_scores = pd.Series(mi_scores, name = \"MI Scores\", index = X.columns)\n",
    "    \n",
    "    mi_scores = mi_scores.sort_values(ascending = False)\n",
    "    \n",
    "    return mi_scores\n",
    "\n",
    "\n",
    "mi_scores = make_mi_scores(df_train.select_dtypes(include=['int64']), y, discrete_features)\n",
    "\n",
    "mi_scores"
   ]
  },
  {
   "cell_type": "markdown",
   "id": "4920295e",
   "metadata": {
    "papermill": {
     "duration": 0.011745,
     "end_time": "2022-12-07T07:17:27.467306",
     "exception": false,
     "start_time": "2022-12-07T07:17:27.455561",
     "status": "completed"
    },
    "tags": []
   },
   "source": [
    "### So, our model will be trained on columns sex, pclass, age, parch, sibsp, fare and embarked."
   ]
  },
  {
   "cell_type": "markdown",
   "id": "9982862e",
   "metadata": {
    "papermill": {
     "duration": 0.011755,
     "end_time": "2022-12-07T07:17:27.491216",
     "exception": false,
     "start_time": "2022-12-07T07:17:27.479461",
     "status": "completed"
    },
    "tags": []
   },
   "source": [
    "## Let's build our very own neural network 🔥."
   ]
  },
  {
   "cell_type": "code",
   "execution_count": 18,
   "id": "05d8d0ee",
   "metadata": {
    "execution": {
     "iopub.execute_input": "2022-12-07T07:17:27.518201Z",
     "iopub.status.busy": "2022-12-07T07:17:27.517365Z",
     "iopub.status.idle": "2022-12-07T07:17:40.494259Z",
     "shell.execute_reply": "2022-12-07T07:17:40.493047Z"
    },
    "papermill": {
     "duration": 12.99358,
     "end_time": "2022-12-07T07:17:40.497209",
     "exception": false,
     "start_time": "2022-12-07T07:17:27.503629",
     "status": "completed"
    },
    "tags": []
   },
   "outputs": [
    {
     "name": "stderr",
     "output_type": "stream",
     "text": [
      "2022-12-07 07:17:34.496610: I tensorflow/core/common_runtime/process_util.cc:146] Creating new thread pool with default inter op setting: 2. Tune using inter_op_parallelism_threads for best performance.\n",
      "/opt/conda/lib/python3.7/site-packages/ipykernel_launcher.py:23: DeprecationWarning: `np.int` is a deprecated alias for the builtin `int`. To silence this warning, use `int` by itself. Doing this will not modify any behavior and is safe. When replacing `np.int`, you may wish to use e.g. `np.int64` or `np.int32` to specify the precision. If you wish to review your current use, check the release note link for additional information.\n",
      "Deprecated in NumPy 1.20; for more details and guidance: https://numpy.org/devdocs/release/1.20.0-notes.html#deprecations\n",
      "/opt/conda/lib/python3.7/site-packages/ipykernel_launcher.py:25: DeprecationWarning: `np.int` is a deprecated alias for the builtin `int`. To silence this warning, use `int` by itself. Doing this will not modify any behavior and is safe. When replacing `np.int`, you may wish to use e.g. `np.int64` or `np.int32` to specify the precision. If you wish to review your current use, check the release note link for additional information.\n",
      "Deprecated in NumPy 1.20; for more details and guidance: https://numpy.org/devdocs/release/1.20.0-notes.html#deprecations\n",
      "2022-12-07 07:17:34.665875: I tensorflow/compiler/mlir/mlir_graph_optimization_pass.cc:185] None of the MLIR Optimization Passes are enabled (registered 2)\n"
     ]
    },
    {
     "name": "stdout",
     "output_type": "stream",
     "text": [
      "Model: \"sequential\"\n",
      "_________________________________________________________________\n",
      "Layer (type)                 Output Shape              Param #   \n",
      "=================================================================\n",
      "dense (Dense)                (None, 8)                 64        \n",
      "_________________________________________________________________\n",
      "dense_1 (Dense)              (None, 4)                 36        \n",
      "_________________________________________________________________\n",
      "dense_2 (Dense)              (None, 1)                 5         \n",
      "=================================================================\n",
      "Total params: 105\n",
      "Trainable params: 105\n",
      "Non-trainable params: 0\n",
      "_________________________________________________________________\n"
     ]
    }
   ],
   "source": [
    "import tensorflow_hub as hub\n",
    "import tensorflow as tf\n",
    "from tensorflow import keras\n",
    "from tensorflow.keras import layers\n",
    "\n",
    "model = keras.Sequential([\n",
    "\n",
    "    layers.Dense(8, activation = 'relu', input_shape = (7,)),\n",
    "    layers.Dense(4, activation = 'relu'),\n",
    "    layers.Dense(1, activation = 'sigmoid')\n",
    "])\n",
    "model.summary()\n",
    "\n",
    "\n",
    "model.compile(\n",
    "    \n",
    "    optimizer=tf.keras.optimizers.Adam(epsilon=0.01),\n",
    "    loss='binary_crossentropy',\n",
    "    metrics=['binary_accuracy']\n",
    "    \n",
    ")\n",
    "\n",
    "X_train = np.asarray(df_train).astype(np.int)\n",
    "\n",
    "y_train = np.asarray(y).astype(np.int)\n",
    "\n",
    "\n",
    "history = model.fit(\n",
    "    \n",
    "    X_train, y_train,\n",
    "    epochs = 100,\n",
    "    verbose = 0,\n",
    ")\n"
   ]
  },
  {
   "cell_type": "markdown",
   "id": "fa962a4c",
   "metadata": {
    "papermill": {
     "duration": 0.011969,
     "end_time": "2022-12-07T07:17:40.521546",
     "exception": false,
     "start_time": "2022-12-07T07:17:40.509577",
     "status": "completed"
    },
    "tags": []
   },
   "source": [
    "## Our Model is ready to be evaluated!"
   ]
  },
  {
   "cell_type": "code",
   "execution_count": 19,
   "id": "c50ffa14",
   "metadata": {
    "execution": {
     "iopub.execute_input": "2022-12-07T07:17:40.548478Z",
     "iopub.status.busy": "2022-12-07T07:17:40.548054Z",
     "iopub.status.idle": "2022-12-07T07:17:41.017255Z",
     "shell.execute_reply": "2022-12-07T07:17:41.016042Z"
    },
    "papermill": {
     "duration": 0.485875,
     "end_time": "2022-12-07T07:17:41.019842",
     "exception": false,
     "start_time": "2022-12-07T07:17:40.533967",
     "status": "completed"
    },
    "tags": []
   },
   "outputs": [
    {
     "data": {
      "image/png": "[encoded data removed]",
      "text/plain": [
       "<Figure size 432x288 with 1 Axes>"
      ]
     },
     "metadata": {
      "needs_background": "light"
     },
     "output_type": "display_data"
    },
    {
     "data": {
      "image/png": "[encoded data removed]",
      "text/plain": [
       "<Figure size 432x288 with 1 Axes>"
      ]
     },
     "metadata": {
      "needs_background": "light"
     },
     "output_type": "display_data"
    }
   ],
   "source": [
    "history_frame = pd.DataFrame(history.history)\n",
    "history_frame.loc[:, ['loss']].plot()\n",
    "history_frame.loc[:, ['binary_accuracy']].plot();"
   ]
  },
  {
   "cell_type": "markdown",
   "id": "bf6c9c0e",
   "metadata": {
    "papermill": {
     "duration": 0.012461,
     "end_time": "2022-12-07T07:17:41.045294",
     "exception": false,
     "start_time": "2022-12-07T07:17:41.032833",
     "status": "completed"
    },
    "tags": []
   },
   "source": [
    "### So our very basic neural network reached the accuracy of almost 82%.\n",
    "\n",
    "#### Please upvote this notebook if you found it useful."
   ]
  }
 ],
 "metadata": {
  "kernelspec": {
   "display_name": "Python 3",
   "language": "python",
   "name": "python3"
  },
  "language_info": {
   "codemirror_mode": {
    "name": "ipython",
    "version": 3
   },
   "file_extension": ".py",
   "mimetype": "text/x-python",
   "name": "python",
   "nbconvert_exporter": "python",
   "pygments_lexer": "ipython3",
   "version": "3.7.12"
  },
  "papermill": {
   "default_parameters": {},
   "duration": 30.255834,
   "end_time": "2022-12-07T07:17:43.814092",
   "environment_variables": {},
   "exception": null,
   "input_path": "__notebook__.ipynb",
   "output_path": "__notebook__.ipynb",
   "parameters": {},
   "start_time": "2022-12-07T07:17:13.558258",
   "version": "2.3.4"
  }
 },
 "nbformat": 4,
 "nbformat_minor": 5
}
