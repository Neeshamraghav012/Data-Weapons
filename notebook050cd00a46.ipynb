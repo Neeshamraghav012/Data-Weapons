{
 "cells": [
  {
   "cell_type": "code",
   "execution_count": 1,
   "id": "2c852dfc",
   "metadata": {
    "_cell_guid": "b1076dfc-b9ad-4769-8c92-a6c4dae69d19",
    "_uuid": "8f2839f25d086af736a60e9eeb907d3b93b6e0e5",
    "execution": {
     "iopub.execute_input": "2022-05-18T03:55:49.661865Z",
     "iopub.status.busy": "2022-05-18T03:55:49.661486Z",
     "iopub.status.idle": "2022-05-18T03:56:04.497075Z",
     "shell.execute_reply": "2022-05-18T03:56:04.496299Z"
    },
    "papermill": {
     "duration": 14.846656,
     "end_time": "2022-05-18T03:56:04.499713",
     "exception": false,
     "start_time": "2022-05-18T03:55:49.653057",
     "status": "completed"
    },
    "tags": []
   },
   "outputs": [
    {
     "name": "stdout",
     "output_type": "stream",
     "text": [
      "/kaggle/input/outlier-detection/data_is_ready_for_machine.xlsx\n",
      "Collecting openpyxl\r\n",
      "  Downloading openpyxl-3.0.9-py2.py3-none-any.whl (242 kB)\r\n",
      "\u001b[2K     \u001b[90m━━━━━━━━━━━━━━━━━━━━━━━━━━━━━━━━━━━━━━━\u001b[0m \u001b[32m242.2/242.2 KB\u001b[0m \u001b[31m4.9 MB/s\u001b[0m eta \u001b[36m0:00:00\u001b[0m\r\n",
      "\u001b[?25hCollecting et-xmlfile\r\n",
      "  Downloading et_xmlfile-1.1.0-py3-none-any.whl (4.7 kB)\r\n",
      "Installing collected packages: et-xmlfile, openpyxl\r\n",
      "Successfully installed et-xmlfile-1.1.0 openpyxl-3.0.9\r\n",
      "\u001b[33mWARNING: Running pip as the 'root' user can result in broken permissions and conflicting behaviour with the system package manager. It is recommended to use a virtual environment instead: https://pip.pypa.io/warnings/venv\u001b[0m\u001b[33m\r\n",
      "\u001b[0m"
     ]
    }
   ],
   "source": [
    "import numpy as np\n",
    "import pandas as pd\n",
    "import chardet\n",
    "from sklearn.model_selection import train_test_split\n",
    "\n",
    "import os\n",
    "for dirname, _, filenames in os.walk('/kaggle/input'):\n",
    "    for filename in filenames:\n",
    "        print(os.path.join(dirname, filename))\n",
    "\n",
    "        \n",
    "!pip install openpyxl"
   ]
  },
  {
   "cell_type": "code",
   "execution_count": 2,
   "id": "1c0da2f1",
   "metadata": {
    "execution": {
     "iopub.execute_input": "2022-05-18T03:56:04.520813Z",
     "iopub.status.busy": "2022-05-18T03:56:04.520510Z",
     "iopub.status.idle": "2022-05-18T03:59:28.775619Z",
     "shell.execute_reply": "2022-05-18T03:59:28.774709Z"
    },
    "papermill": {
     "duration": 204.280892,
     "end_time": "2022-05-18T03:59:28.789721",
     "exception": false,
     "start_time": "2022-05-18T03:56:04.508829",
     "status": "completed"
    },
    "tags": []
   },
   "outputs": [
    {
     "data": {
      "text/html": [
       "<div>\n",
       "<style scoped>\n",
       "    .dataframe tbody tr th:only-of-type {\n",
       "        vertical-align: middle;\n",
       "    }\n",
       "\n",
       "    .dataframe tbody tr th {\n",
       "        vertical-align: top;\n",
       "    }\n",
       "\n",
       "    .dataframe thead th {\n",
       "        text-align: right;\n",
       "    }\n",
       "</style>\n",
       "<table border=\"1\" class=\"dataframe\">\n",
       "  <thead>\n",
       "    <tr style=\"text-align: right;\">\n",
       "      <th></th>\n",
       "      <th>date</th>\n",
       "      <th>time</th>\n",
       "      <th>epoch</th>\n",
       "      <th>mote id</th>\n",
       "      <th>temperature</th>\n",
       "      <th>humidity</th>\n",
       "      <th>light</th>\n",
       "      <th>voltage</th>\n",
       "    </tr>\n",
       "  </thead>\n",
       "  <tbody>\n",
       "    <tr>\n",
       "      <th>0</th>\n",
       "      <td>2004-02-28</td>\n",
       "      <td>00:59:16.02785</td>\n",
       "      <td>3</td>\n",
       "      <td>1</td>\n",
       "      <td>19.9884</td>\n",
       "      <td>37.0933</td>\n",
       "      <td>45.08</td>\n",
       "      <td>2.69964</td>\n",
       "    </tr>\n",
       "    <tr>\n",
       "      <th>1</th>\n",
       "      <td>2004-02-28</td>\n",
       "      <td>01:03:16.33393</td>\n",
       "      <td>11</td>\n",
       "      <td>1</td>\n",
       "      <td>19.3024</td>\n",
       "      <td>38.4629</td>\n",
       "      <td>45.08</td>\n",
       "      <td>2.68742</td>\n",
       "    </tr>\n",
       "    <tr>\n",
       "      <th>2</th>\n",
       "      <td>2004-02-28</td>\n",
       "      <td>01:06:16.013453</td>\n",
       "      <td>17</td>\n",
       "      <td>1</td>\n",
       "      <td>19.1652</td>\n",
       "      <td>38.8039</td>\n",
       "      <td>45.08</td>\n",
       "      <td>2.68742</td>\n",
       "    </tr>\n",
       "    <tr>\n",
       "      <th>3</th>\n",
       "      <td>2004-02-28</td>\n",
       "      <td>01:06:46.778088</td>\n",
       "      <td>18</td>\n",
       "      <td>1</td>\n",
       "      <td>19.1750</td>\n",
       "      <td>38.8379</td>\n",
       "      <td>45.08</td>\n",
       "      <td>2.69964</td>\n",
       "    </tr>\n",
       "    <tr>\n",
       "      <th>4</th>\n",
       "      <td>2004-02-28</td>\n",
       "      <td>01:08:45.992524</td>\n",
       "      <td>22</td>\n",
       "      <td>1</td>\n",
       "      <td>19.1456</td>\n",
       "      <td>38.9401</td>\n",
       "      <td>45.08</td>\n",
       "      <td>2.68742</td>\n",
       "    </tr>\n",
       "    <tr>\n",
       "      <th>...</th>\n",
       "      <td>...</td>\n",
       "      <td>...</td>\n",
       "      <td>...</td>\n",
       "      <td>...</td>\n",
       "      <td>...</td>\n",
       "      <td>...</td>\n",
       "      <td>...</td>\n",
       "      <td>...</td>\n",
       "    </tr>\n",
       "    <tr>\n",
       "      <th>1048570</th>\n",
       "      <td>2004-03-06</td>\n",
       "      <td>09:32:33.116218</td>\n",
       "      <td>21189</td>\n",
       "      <td>27</td>\n",
       "      <td>24.3984</td>\n",
       "      <td>34.3273</td>\n",
       "      <td>250.24</td>\n",
       "      <td>2.65143</td>\n",
       "    </tr>\n",
       "    <tr>\n",
       "      <th>1048571</th>\n",
       "      <td>2004-03-06</td>\n",
       "      <td>09:33:08.057059</td>\n",
       "      <td>21190</td>\n",
       "      <td>27</td>\n",
       "      <td>24.4278</td>\n",
       "      <td>34.3273</td>\n",
       "      <td>250.24</td>\n",
       "      <td>2.65143</td>\n",
       "    </tr>\n",
       "    <tr>\n",
       "      <th>1048572</th>\n",
       "      <td>2004-03-06</td>\n",
       "      <td>09:33:33.38416</td>\n",
       "      <td>21191</td>\n",
       "      <td>27</td>\n",
       "      <td>24.4670</td>\n",
       "      <td>34.2577</td>\n",
       "      <td>250.24</td>\n",
       "      <td>2.65143</td>\n",
       "    </tr>\n",
       "    <tr>\n",
       "      <th>1048573</th>\n",
       "      <td>2004-03-06</td>\n",
       "      <td>09:34:02.63218</td>\n",
       "      <td>21192</td>\n",
       "      <td>27</td>\n",
       "      <td>24.5062</td>\n",
       "      <td>34.1880</td>\n",
       "      <td>250.24</td>\n",
       "      <td>2.65143</td>\n",
       "    </tr>\n",
       "    <tr>\n",
       "      <th>1048574</th>\n",
       "      <td>2004-03-06</td>\n",
       "      <td>09:35:36.326553</td>\n",
       "      <td>21195</td>\n",
       "      <td>27</td>\n",
       "      <td>24.6042</td>\n",
       "      <td>33.9790</td>\n",
       "      <td>250.24</td>\n",
       "      <td>2.65143</td>\n",
       "    </tr>\n",
       "  </tbody>\n",
       "</table>\n",
       "<p>1048575 rows × 8 columns</p>\n",
       "</div>"
      ],
      "text/plain": [
       "              date             time  epoch  mote id  temperature  humidity  \\\n",
       "0       2004-02-28   00:59:16.02785      3        1      19.9884   37.0933   \n",
       "1       2004-02-28   01:03:16.33393     11        1      19.3024   38.4629   \n",
       "2       2004-02-28  01:06:16.013453     17        1      19.1652   38.8039   \n",
       "3       2004-02-28  01:06:46.778088     18        1      19.1750   38.8379   \n",
       "4       2004-02-28  01:08:45.992524     22        1      19.1456   38.9401   \n",
       "...            ...              ...    ...      ...          ...       ...   \n",
       "1048570 2004-03-06  09:32:33.116218  21189       27      24.3984   34.3273   \n",
       "1048571 2004-03-06  09:33:08.057059  21190       27      24.4278   34.3273   \n",
       "1048572 2004-03-06   09:33:33.38416  21191       27      24.4670   34.2577   \n",
       "1048573 2004-03-06   09:34:02.63218  21192       27      24.5062   34.1880   \n",
       "1048574 2004-03-06  09:35:36.326553  21195       27      24.6042   33.9790   \n",
       "\n",
       "          light  voltage  \n",
       "0         45.08  2.69964  \n",
       "1         45.08  2.68742  \n",
       "2         45.08  2.68742  \n",
       "3         45.08  2.69964  \n",
       "4         45.08  2.68742  \n",
       "...         ...      ...  \n",
       "1048570  250.24  2.65143  \n",
       "1048571  250.24  2.65143  \n",
       "1048572  250.24  2.65143  \n",
       "1048573  250.24  2.65143  \n",
       "1048574  250.24  2.65143  \n",
       "\n",
       "[1048575 rows x 8 columns]"
      ]
     },
     "execution_count": 2,
     "metadata": {},
     "output_type": "execute_result"
    }
   ],
   "source": [
    "df = pd.read_excel(\"../input/outlier-detection/data_is_ready_for_machine.xlsx\")\n",
    "df"
   ]
  },
  {
   "cell_type": "code",
   "execution_count": 3,
   "id": "b0cfc5df",
   "metadata": {
    "execution": {
     "iopub.execute_input": "2022-05-18T03:59:28.818730Z",
     "iopub.status.busy": "2022-05-18T03:59:28.817770Z",
     "iopub.status.idle": "2022-05-18T03:59:29.897067Z",
     "shell.execute_reply": "2022-05-18T03:59:29.896209Z"
    },
    "papermill": {
     "duration": 1.096914,
     "end_time": "2022-05-18T03:59:29.899171",
     "exception": false,
     "start_time": "2022-05-18T03:59:28.802257",
     "status": "completed"
    },
    "tags": []
   },
   "outputs": [
    {
     "name": "stderr",
     "output_type": "stream",
     "text": [
      "/opt/conda/lib/python3.7/site-packages/sklearn/base.py:451: UserWarning: X does not have valid feature names, but IsolationForest was fitted with feature names\n",
      "  \"X does not have valid feature names, but\"\n"
     ]
    },
    {
     "data": {
      "text/plain": [
       "array([-1, -1, -1,  1, -1, -1,  1,  1, -1,  1])"
      ]
     },
     "execution_count": 3,
     "metadata": {},
     "output_type": "execute_result"
    }
   ],
   "source": [
    "from sklearn.ensemble import IsolationForest\n",
    "\n",
    "x = df[[\"temperature\", \"humidity\", \"light\", \"voltage\"]]\n",
    "\n",
    "iforest = IsolationForest(n_estimators=300, contamination=0.05)\n",
    "iforest.fit(x[:100])\n",
    "\n",
    "preds = iforest.predict(x[101:200])\n",
    "\n",
    "# -1 shows an outlier, +1 shows a normal sample\n",
    "preds[:10]"
   ]
  },
  {
   "cell_type": "markdown",
   "id": "5b17d518",
   "metadata": {
    "papermill": {
     "duration": 0.00954,
     "end_time": "2022-05-18T03:59:29.918530",
     "exception": false,
     "start_time": "2022-05-18T03:59:29.908990",
     "status": "completed"
    },
    "tags": []
   },
   "source": [
    "### Dividing Dataset into Valid Samples and Outliers"
   ]
  }
 ],
 "metadata": {
  "kernelspec": {
   "display_name": "Python 3",
   "language": "python",
   "name": "python3"
  },
  "language_info": {
   "codemirror_mode": {
    "name": "ipython",
    "version": 3
   },
   "file_extension": ".py",
   "mimetype": "text/x-python",
   "name": "python",
   "nbconvert_exporter": "python",
   "pygments_lexer": "ipython3",
   "version": "3.7.12"
  },
  "papermill": {
   "default_parameters": {},
   "duration": 231.647039,
   "end_time": "2022-05-18T03:59:30.750075",
   "environment_variables": {},
   "exception": null,
   "input_path": "__notebook__.ipynb",
   "output_path": "__notebook__.ipynb",
   "parameters": {},
   "start_time": "2022-05-18T03:55:39.103036",
   "version": "2.3.4"
  }
 },
 "nbformat": 4,
 "nbformat_minor": 5
}
